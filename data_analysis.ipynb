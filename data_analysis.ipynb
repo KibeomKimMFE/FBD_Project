{
 "cells": [
  {
   "cell_type": "code",
   "execution_count": 15,
   "metadata": {},
   "outputs": [],
   "source": [
    "import os\n",
    "import glob\n",
    "import dask\n",
    "\n",
    "import numpy as np\n",
    "import pandas as pd\n",
    "from src.preprocessing import extract_quotes"
   ]
  },
  {
   "cell_type": "code",
   "execution_count": 6,
   "metadata": {},
   "outputs": [],
   "source": [
    "DATA_PATH = '/Users/mac/Desktop/Repos/FBD_Project/datasets/'\n",
    "RAW_DATA_PATH = DATA_PATH + 'raw/'\n",
    "\n",
    "quote_btc = sorted(glob.glob(RAW_DATA_PATH + 'btcusdt/quotes/*.csv.gz'))\n",
    "quote_eth = sorted(glob.glob(RAW_DATA_PATH + 'ethusdt/quotes/*.csv.gz'))\n",
    "quote_ada = sorted(glob.glob(RAW_DATA_PATH + 'adausdt/quotes/*.csv.gz'))"
   ]
  },
  {
   "cell_type": "code",
   "execution_count": 19,
   "metadata": {},
   "outputs": [],
   "source": [
    "@dask.delayed\n",
    "def extract_quotes(trade_file_path: str) -> pd.DataFrame:\n",
    "    df = pd.read_csv(trade_file_path)[\n",
    "        [\"timestamp\", \"ask_price\", \"bid_price\", \"ask_amount\", \"bid_amount\"]\n",
    "    ]\n",
    "        \n",
    "    # calculate mid price and bidask spread\n",
    "    df[\"mid_price\"] = (df[\"ask_price\"] + df[\"bid_price\"]) / 2\n",
    "    df[\"ba_spread\"] = np.round((df[\"ask_price\"] - df[\"bid_price\"]), 5)\n",
    "    df[\"imbalance\"] = df[\"bid_amount\"] / (df[\"bid_amount\"] + df[\"ask_amount\"])\n",
    "    df[\"timestamp\"] = pd.to_datetime(df[\"timestamp\"] / 1000, unit=\"ms\")\n",
    "    df = df.set_index(\"timestamp\")\n",
    "    \n",
    "    # resample by 1second frequency\n",
    "    df = df.resample(\"1s\").last().ffill()\n",
    "    return df"
   ]
  },
  {
   "cell_type": "code",
   "execution_count": 11,
   "metadata": {},
   "outputs": [],
   "source": [
    "df = dask.compute(extract_quotes(quote_btc[0]))[0]"
   ]
  },
  {
   "cell_type": "code",
   "execution_count": null,
   "metadata": {},
   "outputs": [],
   "source": []
  }
 ],
 "metadata": {
  "kernelspec": {
   "display_name": "venv",
   "language": "python",
   "name": "python3"
  },
  "language_info": {
   "codemirror_mode": {
    "name": "ipython",
    "version": 3
   },
   "file_extension": ".py",
   "mimetype": "text/x-python",
   "name": "python",
   "nbconvert_exporter": "python",
   "pygments_lexer": "ipython3",
   "version": "3.9.7"
  },
  "orig_nbformat": 4,
  "vscode": {
   "interpreter": {
    "hash": "231aa2985498be18bfd7f8fe95f88a6579a0cb78031a3e6916d9378116cc6cd2"
   }
  }
 },
 "nbformat": 4,
 "nbformat_minor": 2
}
