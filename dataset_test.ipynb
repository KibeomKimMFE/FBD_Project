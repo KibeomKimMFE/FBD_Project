{
 "cells": [
  {
   "cell_type": "code",
   "execution_count": 1,
   "metadata": {},
   "outputs": [],
   "source": [
    "import glob\n",
    "import vaex\n",
    "import dask\n",
    "\n",
    "import numpy as np\n",
    "import pandas as pd\n",
    "import itertools\n",
    "import matplotlib.pyplot as plt\n",
    "\n",
    "from typing import List\n",
    "from datetime import datetime\n",
    "from numpy.linalg import inv, matrix_power \n",
    "from scipy.linalg import block_diag\n",
    "from src.preprocessing import symmetrize_data, get_micro_adjustment"
   ]
  },
  {
   "cell_type": "code",
   "execution_count": 2,
   "metadata": {},
   "outputs": [],
   "source": [
    "@dask.delayed\n",
    "def extract_features(orderbook_file_path:str) -> pd.DataFrame:\n",
    "    df = pd.read_csv(orderbook_file_path)[['timestamp', 'asks[0].price', 'bids[0].price', 'asks[0].amount', 'bids[0].amount']]\n",
    "                           \n",
    "   # calculate mid price and bidask spread\n",
    "    df['mid_price'] = (df['asks[0].price'] + df['bids[0].price'])/2\n",
    "    df['ba_spread'] = np.round((df['asks[0].price'] - df['bids[0].price']),2)\n",
    "    df['imbalance'] = df['bids[0].amount']/(df['bids[0].amount'] + df['asks[0].amount'])\n",
    "    df['timestamp'] = pd.to_datetime(df['timestamp']/1000, unit='ms')\n",
    "\n",
    "    # convert timestamp to datetime format\n",
    "    df = df[['timestamp','mid_price', 'ba_spread', 'imbalance']].set_index('timestamp')\n",
    "    \n",
    "    # resample by 1second frequency\n",
    "    df = df.resample('1s').last().ffill()\n",
    "    return df\n",
    "\n",
    "@dask.delayed\n",
    "def extract_features(orderbook_file_path:str) -> pd.DataFrame:\n",
    "    df = pd.read_csv(orderbook_file_path)[['timestamp', 'asks[0].price', 'bids[0].price', 'asks[0].amount', 'bids[0].amount']]\n",
    "                           \n",
    "   # calculate mid price and bidask spread\n",
    "    df['mid_price'] = (df['asks[0].price'] + df['bids[0].price'])/2\n",
    "    df['ba_spread'] = np.round((df['asks[0].price'] - df['bids[0].price']),2)\n",
    "    df['imbalance'] = df['bids[0].amount']/(df['bids[0].amount'] + df['asks[0].amount'])\n",
    "    df['timestamp'] = pd.to_datetime(df['timestamp']/1000, unit='ms')\n",
    "\n",
    "    # convert timestamp to datetime format\n",
    "    df = df[['timestamp','mid_price', 'ba_spread', 'imbalance']].set_index('timestamp')\n",
    "    \n",
    "    # resample by 1second frequency\n",
    "    df = df.resample('1s').last().ffill()\n",
    "    return df\n",
    "\n",
    "@dask.delayed\n",
    "def extract_quotes(trade_file_path:str) -> pd.DataFrame:\n",
    "    df = pd.read_csv(trade_file_path)[['timestamp', 'ask_price', 'bid_price', 'ask_amount', 'bid_amount']]\n",
    "    df['timestamp'] = pd.to_datetime(df['timestamp']/1000, unit='ms')\n",
    "    return df.set_index('timestamp')\n",
    "\n",
    "@dask.delayed\n",
    "def extract_trades(trade_file_path:str) -> pd.DataFrame:\n",
    "    df = pd.read_csv(trade_file_path)[['timestamp', 'side', 'price', 'amount']]\n",
    "    df['timestamp'] = pd.to_datetime(df['timestamp']/1000, unit='ms')\n",
    "    return df.set_index('timestamp')"
   ]
  },
  {
   "cell_type": "code",
   "execution_count": 5,
   "metadata": {},
   "outputs": [],
   "source": [
    "DATA_PATH = '/Users/mac/Desktop/Repos/FBD_Project/datasets/'\n",
    "orderbook_list = sorted(glob.glob(DATA_PATH + 'btcusdt/orderbook/*.csv.gz'))\n",
    "quote_list = sorted(glob.glob(DATA_PATH + 'btcusdt/quotes/*.csv.gz'))\n",
    "trade_list = sorted(glob.glob(DATA_PATH + 'btcusdt/trades/*.csv.gz'))"
   ]
  },
  {
   "cell_type": "code",
   "execution_count": 4,
   "metadata": {},
   "outputs": [],
   "source": [
    "# # process raw data to get features for calculation.\n",
    "# %time\n",
    "# trades = [extract_trades(path) for path in trade_list[:5]] \n",
    "# quotes = [extract_quotes(path) for path in quote_list[:5]] \n",
    "\n",
    "# df_trade = dask.compute(trades)[0]\n",
    "# df_trade = pd.concat(df_trade)\n",
    "\n",
    "# df_quote = dask.compute(quotes)[0]\n",
    "# df_quote = pd.concat(df_quote)\n",
    "\n",
    "# # join trade and quotes\n",
    "# df_tq = pd.merge(df_quote.reset_index(), df_trade.reset_index(),how='outer', on='timestamp')\n",
    "# df_tq = df_tq.set_index('timestamp').sort_index()\n",
    "\n",
    "# df_tq['ba_spread'] = df_tq['ask_price'] - df_tq['bid_price']\n",
    "# df_tq['imbalance'] = df_tq['bid_amount']/(df_tq['bid_amount'] + df_tq['ask_amount'])\n",
    "# df_tq[['ba_spread', 'imbalance']] = df_tq[['ba_spread', 'imbalance']].ffill()"
   ]
  },
  {
   "cell_type": "code",
   "execution_count": 7,
   "metadata": {},
   "outputs": [
    {
     "name": "stdout",
     "output_type": "stream",
     "text": [
      "CPU times: user 1e+03 ns, sys: 0 ns, total: 1e+03 ns\n",
      "Wall time: 5.25 µs\n"
     ]
    },
    {
     "name": "stderr",
     "output_type": "stream",
     "text": [
      "/Users/mac/Desktop/Repos/FBD_Project/src/preprocessing.py:150: RuntimeWarning: invalid value encountered in divide\n",
      "  J = np.nan_to_num(J / J.sum(axis=1).reshape(-1, 1), nan=0)\n",
      "/Users/mac/Desktop/Repos/FBD_Project/src/preprocessing.py:183: RuntimeWarning: invalid value encountered in divide\n",
      "  J2 = np.nan_to_num(J2 / J2.sum(axis=1).reshape(-1, 1), nan=0)\n"
     ]
    }
   ],
   "source": [
    "# process raw data to get features for calculation.\n",
    "%time\n",
    "all_features = [extract_features(path) for path in orderbook_list[:5]] \n",
    "df_feat = dask.compute(all_features)[0]\n",
    "df_feat = pd.concat(df_feat)\n",
    "\n",
    "# symmetrized data\n",
    "df_sig = symmetrize_data(df_feat)\n",
    "g1, B = get_micro_adjustment(df_sig)"
   ]
  },
  {
   "attachments": {},
   "cell_type": "markdown",
   "metadata": {},
   "source": [
    "To do \n",
    "- check bidask imblaance and buy and sell volume (pre-trades only)\n",
    "- eth, btc, ada spread distribution\n",
    "- upgrade microprice prediction (bitcoin too much volatility)"
   ]
  },
  {
   "cell_type": "code",
   "execution_count": 101,
   "metadata": {},
   "outputs": [],
   "source": [
    "df_feat['mid_chg'] = df_feat['mid_price'].diff()"
   ]
  },
  {
   "cell_type": "code",
   "execution_count": 112,
   "metadata": {},
   "outputs": [
    {
     "data": {
      "text/html": [
       "<div>\n",
       "<style scoped>\n",
       "    .dataframe tbody tr th:only-of-type {\n",
       "        vertical-align: middle;\n",
       "    }\n",
       "\n",
       "    .dataframe tbody tr th {\n",
       "        vertical-align: top;\n",
       "    }\n",
       "\n",
       "    .dataframe thead th {\n",
       "        text-align: right;\n",
       "    }\n",
       "</style>\n",
       "<table border=\"1\" class=\"dataframe\">\n",
       "  <thead>\n",
       "    <tr style=\"text-align: right;\">\n",
       "      <th></th>\n",
       "      <th>mid_price</th>\n",
       "      <th>ba_spread</th>\n",
       "      <th>imbalance</th>\n",
       "      <th>mid_chg</th>\n",
       "    </tr>\n",
       "    <tr>\n",
       "      <th>timestamp</th>\n",
       "      <th></th>\n",
       "      <th></th>\n",
       "      <th></th>\n",
       "      <th></th>\n",
       "    </tr>\n",
       "  </thead>\n",
       "  <tbody>\n",
       "    <tr>\n",
       "      <th>2022-09-06 17:05:31</th>\n",
       "      <td>19462.20</td>\n",
       "      <td>5.6</td>\n",
       "      <td>0.009439</td>\n",
       "      <td>-130.80</td>\n",
       "    </tr>\n",
       "    <tr>\n",
       "      <th>2022-09-06 17:05:38</th>\n",
       "      <td>19274.90</td>\n",
       "      <td>58.8</td>\n",
       "      <td>0.367006</td>\n",
       "      <td>-103.15</td>\n",
       "    </tr>\n",
       "    <tr>\n",
       "      <th>2022-09-06 17:05:34</th>\n",
       "      <td>19384.95</td>\n",
       "      <td>4.5</td>\n",
       "      <td>0.037383</td>\n",
       "      <td>-76.35</td>\n",
       "    </tr>\n",
       "    <tr>\n",
       "      <th>2022-09-02 12:30:15</th>\n",
       "      <td>20106.70</td>\n",
       "      <td>13.4</td>\n",
       "      <td>0.767123</td>\n",
       "      <td>-72.80</td>\n",
       "    </tr>\n",
       "    <tr>\n",
       "      <th>2022-09-06 17:07:48</th>\n",
       "      <td>19150.05</td>\n",
       "      <td>0.1</td>\n",
       "      <td>0.999788</td>\n",
       "      <td>-64.60</td>\n",
       "    </tr>\n",
       "    <tr>\n",
       "      <th>2022-09-06 17:05:44</th>\n",
       "      <td>19190.15</td>\n",
       "      <td>14.3</td>\n",
       "      <td>0.001927</td>\n",
       "      <td>-60.60</td>\n",
       "    </tr>\n",
       "    <tr>\n",
       "      <th>2022-09-06 17:47:45</th>\n",
       "      <td>18984.90</td>\n",
       "      <td>0.2</td>\n",
       "      <td>0.011111</td>\n",
       "      <td>-52.15</td>\n",
       "    </tr>\n",
       "    <tr>\n",
       "      <th>2022-09-06 17:48:03</th>\n",
       "      <td>18933.05</td>\n",
       "      <td>0.1</td>\n",
       "      <td>0.996703</td>\n",
       "      <td>-49.80</td>\n",
       "    </tr>\n",
       "    <tr>\n",
       "      <th>2022-09-06 17:05:52</th>\n",
       "      <td>19163.75</td>\n",
       "      <td>32.7</td>\n",
       "      <td>0.698959</td>\n",
       "      <td>-47.45</td>\n",
       "    </tr>\n",
       "    <tr>\n",
       "      <th>2022-09-06 17:48:09</th>\n",
       "      <td>18847.10</td>\n",
       "      <td>0.2</td>\n",
       "      <td>0.988151</td>\n",
       "      <td>-46.15</td>\n",
       "    </tr>\n",
       "    <tr>\n",
       "      <th>2022-09-06 17:05:40</th>\n",
       "      <td>19315.20</td>\n",
       "      <td>42.2</td>\n",
       "      <td>0.274198</td>\n",
       "      <td>-44.35</td>\n",
       "    </tr>\n",
       "    <tr>\n",
       "      <th>2022-09-06 17:48:05</th>\n",
       "      <td>18894.75</td>\n",
       "      <td>13.5</td>\n",
       "      <td>0.999179</td>\n",
       "      <td>-40.30</td>\n",
       "    </tr>\n",
       "    <tr>\n",
       "      <th>2022-09-02 12:30:08</th>\n",
       "      <td>20256.85</td>\n",
       "      <td>0.1</td>\n",
       "      <td>0.101494</td>\n",
       "      <td>-38.10</td>\n",
       "    </tr>\n",
       "    <tr>\n",
       "      <th>2022-09-06 17:05:41</th>\n",
       "      <td>19278.75</td>\n",
       "      <td>47.9</td>\n",
       "      <td>0.990272</td>\n",
       "      <td>-36.45</td>\n",
       "    </tr>\n",
       "    <tr>\n",
       "      <th>2022-09-06 20:04:24</th>\n",
       "      <td>18849.75</td>\n",
       "      <td>0.3</td>\n",
       "      <td>0.007592</td>\n",
       "      <td>-35.40</td>\n",
       "    </tr>\n",
       "    <tr>\n",
       "      <th>2022-09-06 20:04:35</th>\n",
       "      <td>18823.15</td>\n",
       "      <td>0.9</td>\n",
       "      <td>0.375000</td>\n",
       "      <td>-34.95</td>\n",
       "    </tr>\n",
       "    <tr>\n",
       "      <th>2022-09-04 17:01:50</th>\n",
       "      <td>19910.15</td>\n",
       "      <td>0.1</td>\n",
       "      <td>0.874642</td>\n",
       "      <td>-34.90</td>\n",
       "    </tr>\n",
       "    <tr>\n",
       "      <th>2022-09-02 17:23:20</th>\n",
       "      <td>19922.50</td>\n",
       "      <td>20.6</td>\n",
       "      <td>0.820438</td>\n",
       "      <td>-34.65</td>\n",
       "    </tr>\n",
       "    <tr>\n",
       "      <th>2022-09-02 17:23:17</th>\n",
       "      <td>19969.00</td>\n",
       "      <td>8.4</td>\n",
       "      <td>0.999317</td>\n",
       "      <td>-31.05</td>\n",
       "    </tr>\n",
       "    <tr>\n",
       "      <th>2022-09-06 17:05:32</th>\n",
       "      <td>19431.95</td>\n",
       "      <td>9.7</td>\n",
       "      <td>0.376821</td>\n",
       "      <td>-30.25</td>\n",
       "    </tr>\n",
       "  </tbody>\n",
       "</table>\n",
       "</div>"
      ],
      "text/plain": [
       "                     mid_price  ba_spread  imbalance  mid_chg\n",
       "timestamp                                                    \n",
       "2022-09-06 17:05:31   19462.20        5.6   0.009439  -130.80\n",
       "2022-09-06 17:05:38   19274.90       58.8   0.367006  -103.15\n",
       "2022-09-06 17:05:34   19384.95        4.5   0.037383   -76.35\n",
       "2022-09-02 12:30:15   20106.70       13.4   0.767123   -72.80\n",
       "2022-09-06 17:07:48   19150.05        0.1   0.999788   -64.60\n",
       "2022-09-06 17:05:44   19190.15       14.3   0.001927   -60.60\n",
       "2022-09-06 17:47:45   18984.90        0.2   0.011111   -52.15\n",
       "2022-09-06 17:48:03   18933.05        0.1   0.996703   -49.80\n",
       "2022-09-06 17:05:52   19163.75       32.7   0.698959   -47.45\n",
       "2022-09-06 17:48:09   18847.10        0.2   0.988151   -46.15\n",
       "2022-09-06 17:05:40   19315.20       42.2   0.274198   -44.35\n",
       "2022-09-06 17:48:05   18894.75       13.5   0.999179   -40.30\n",
       "2022-09-02 12:30:08   20256.85        0.1   0.101494   -38.10\n",
       "2022-09-06 17:05:41   19278.75       47.9   0.990272   -36.45\n",
       "2022-09-06 20:04:24   18849.75        0.3   0.007592   -35.40\n",
       "2022-09-06 20:04:35   18823.15        0.9   0.375000   -34.95\n",
       "2022-09-04 17:01:50   19910.15        0.1   0.874642   -34.90\n",
       "2022-09-02 17:23:20   19922.50       20.6   0.820438   -34.65\n",
       "2022-09-02 17:23:17   19969.00        8.4   0.999317   -31.05\n",
       "2022-09-06 17:05:32   19431.95        9.7   0.376821   -30.25"
      ]
     },
     "execution_count": 112,
     "metadata": {},
     "output_type": "execute_result"
    }
   ],
   "source": [
    "df_feat[df_feat.mid_chg != 0].sort_values('mid_chg').iloc[:20]"
   ]
  },
  {
   "cell_type": "code",
   "execution_count": 98,
   "metadata": {},
   "outputs": [
    {
     "data": {
      "text/plain": [
       "<AxesSubplot: >"
      ]
     },
     "execution_count": 98,
     "metadata": {},
     "output_type": "execute_result"
    },
    {
     "data": {
      "image/png": "[encoded data removed]",
      "text/plain": [
       "<Figure size 640x480 with 1 Axes>"
      ]
     },
     "metadata": {},
     "output_type": "display_data"
    }
   ],
   "source": [
    "df_sig.mid_chg[df_sig.mid_chg != 0].hist()"
   ]
  },
  {
   "cell_type": "code",
   "execution_count": 16,
   "metadata": {},
   "outputs": [],
   "source": [
    "micro_adj = g1 + np.linalg.matrix_power(B, 6) @  g1"
   ]
  },
  {
   "cell_type": "code",
   "execution_count": 21,
   "metadata": {},
   "outputs": [
    {
     "data": {
      "text/plain": [
       "mid_price    18781.450000\n",
       "ba_spread        0.100000\n",
       "imbalance        0.631334\n",
       "Name: 2022-09-06 23:59:59, dtype: float64"
      ]
     },
     "execution_count": 21,
     "metadata": {},
     "output_type": "execute_result"
    }
   ],
   "source": [
    "df_feat.iloc[-1]"
   ]
  },
  {
   "cell_type": "code",
   "execution_count": 25,
   "metadata": {},
   "outputs": [
    {
     "data": {
      "text/plain": [
       "array([-0.00916065, -0.00239317,  0.00239317,  0.00916065, -0.01545455,\n",
       "       -0.01363636,  0.01363636,  0.01545455, -0.03571429,  0.04675325,\n",
       "       -0.04675325,  0.03571429,  0.05      ,  0.        ,  0.        ,\n",
       "       -0.05      ])"
      ]
     },
     "execution_count": 25,
     "metadata": {},
     "output_type": "execute_result"
    }
   ],
   "source": [
    "micro_adj.reshape(-1)"
   ]
  },
  {
   "cell_type": "code",
   "execution_count": 23,
   "metadata": {},
   "outputs": [
    {
     "data": {
      "text/plain": [
       "(0.05000000244570758, -0.05000000244570758)"
      ]
     },
     "execution_count": 23,
     "metadata": {},
     "output_type": "execute_result"
    }
   ],
   "source": [
    "micro_adj.max(), micro_adj.min()"
   ]
  },
  {
   "cell_type": "code",
   "execution_count": null,
   "metadata": {},
   "outputs": [],
   "source": []
  }
 ],
 "metadata": {
  "kernelspec": {
   "display_name": "venv",
   "language": "python",
   "name": "python3"
  },
  "language_info": {
   "codemirror_mode": {
    "name": "ipython",
    "version": 3
   },
   "file_extension": ".py",
   "mimetype": "text/x-python",
   "name": "python",
   "nbconvert_exporter": "python",
   "pygments_lexer": "ipython3",
   "version": "3.9.7"
  },
  "orig_nbformat": 4,
  "vscode": {
   "interpreter": {
    "hash": "231aa2985498be18bfd7f8fe95f88a6579a0cb78031a3e6916d9378116cc6cd2"
   }
  }
 },
 "nbformat": 4,
 "nbformat_minor": 2
}
